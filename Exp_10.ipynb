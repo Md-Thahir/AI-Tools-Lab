{
  "nbformat": 4,
  "nbformat_minor": 0,
  "metadata": {
    "colab": {
      "provenance": [],
      "mount_file_id": "1lOwc0rGXCj_H_Ob8K57bfOM1lMk1cj3c",
      "authorship_tag": "ABX9TyMUewRys0c2IxB+qC4vyWOP",
      "include_colab_link": true
    },
    "kernelspec": {
      "name": "python3",
      "display_name": "Python 3"
    },
    "language_info": {
      "name": "python"
    }
  },
  "cells": [
    {
      "cell_type": "markdown",
      "metadata": {
        "id": "view-in-github",
        "colab_type": "text"
      },
      "source": [
        "<a href=\"https://colab.research.google.com/github/Md-Thahir/AI-Tools-Lab/blob/main/Exp_10.ipynb\" target=\"_parent\"><img src=\"https://colab.research.google.com/assets/colab-badge.svg\" alt=\"Open In Colab\"/></a>"
      ]
    },
    {
      "cell_type": "code",
      "execution_count": 2,
      "metadata": {
        "colab": {
          "base_uri": "https://localhost:8080/"
        },
        "id": "2D5YphS01Xyp",
        "outputId": "1d65df47-7b08-4c9e-e5b3-0b527f8d2a1d"
      },
      "outputs": [
        {
          "output_type": "stream",
          "name": "stdout",
          "text": [
            "   PassengerId  Survived  Pclass  \\\n",
            "0            1         0       3   \n",
            "1            2         1       1   \n",
            "2            3         1       3   \n",
            "3            4         1       1   \n",
            "4            5         0       3   \n",
            "\n",
            "                                                Name     Sex   Age  SibSp  \\\n",
            "0                            Braund, Mr. Owen Harris    male  22.0      1   \n",
            "1  Cumings, Mrs. John Bradley (Florence Briggs Th...  female  38.0      1   \n",
            "2                             Heikkinen, Miss. Laina  female  26.0      0   \n",
            "3       Futrelle, Mrs. Jacques Heath (Lily May Peel)  female  35.0      1   \n",
            "4                           Allen, Mr. William Henry    male  35.0      0   \n",
            "\n",
            "   Parch            Ticket     Fare Cabin Embarked  \n",
            "0      0         A/5 21171   7.2500   NaN        S  \n",
            "1      0          PC 17599  71.2833   C85        C  \n",
            "2      0  STON/O2. 3101282   7.9250   NaN        S  \n",
            "3      0            113803  53.1000  C123        S  \n",
            "4      0            373450   8.0500   NaN        S  \n"
          ]
        }
      ],
      "source": [
        "'''a. Determine the outliers in each non-categorical column of Titanic Data and remove them.'''\n",
        "\n",
        "# importing all the necessary libraries\n",
        "import pandas as pd\n",
        "import numpy as np\n",
        "#we need to read the data\n",
        "data = pd.read_csv(\"/content/drive/MyDrive/AI Tools Lab/train.csv\")\n",
        "#print top 5 rows\n",
        "print(data.head())"
      ]
    },
    {
      "cell_type": "code",
      "source": [
        "# function to calculate the lower and upperbound\n",
        "def detect_outliers(data,threshold):\n",
        "  mean = np.mean(data)\n",
        "  std =np.std(data)\n",
        "  lb = max(mean - (threshold * std),min(data))\n",
        "  ub = min(mean + (threshold * std),max(data))\n",
        "  return lb,ub\n",
        "df = data.copy()\n",
        "lb,ub = detect_outliers(data[\"Fare\"],4)\n",
        "# removing the rows which are greater than upperbound\n",
        "df.drop(df[df.Fare > ub].index, inplace=True)\n",
        "# removing the rows which are less than lowerbound\n",
        "df.drop(df[df.Fare < lb ].index, inplace=True)\n",
        "print(\"lb: \",lb,\"ub: \",ub)\n",
        "df.sort_values(by=\"Fare\",ascending=True,inplace=True)"
      ],
      "metadata": {
        "colab": {
          "base_uri": "https://localhost:8080/"
        },
        "id": "5yIaZ9bh2hhD",
        "outputId": "23c32a3f-568c-45e4-b41c-0ad511b88534"
      },
      "execution_count": 4,
      "outputs": [
        {
          "output_type": "stream",
          "name": "stdout",
          "text": [
            "lb:  0.0 ub:  230.86634574767106\n"
          ]
        }
      ]
    },
    {
      "cell_type": "code",
      "source": [
        "print(df)"
      ],
      "metadata": {
        "colab": {
          "base_uri": "https://localhost:8080/"
        },
        "id": "Xii-xIPn2uUb",
        "outputId": "8b96545e-a648-4e3c-a412-92e3ba620992"
      },
      "execution_count": 5,
      "outputs": [
        {
          "output_type": "stream",
          "name": "stdout",
          "text": [
            "     PassengerId  Survived  Pclass  \\\n",
            "271          272         1       3   \n",
            "597          598         0       3   \n",
            "302          303         0       3   \n",
            "633          634         0       1   \n",
            "277          278         0       2   \n",
            "..           ...       ...     ...   \n",
            "527          528         0       1   \n",
            "716          717         1       1   \n",
            "380          381         1       1   \n",
            "557          558         0       1   \n",
            "700          701         1       1   \n",
            "\n",
            "                                                  Name     Sex   Age  SibSp  \\\n",
            "271                       Tornquist, Mr. William Henry    male  25.0      0   \n",
            "597                                Johnson, Mr. Alfred    male  49.0      0   \n",
            "302                    Johnson, Mr. William Cahoone Jr    male  19.0      0   \n",
            "633                      Parr, Mr. William Henry Marsh    male   NaN      0   \n",
            "277                        Parkes, Mr. Francis \"Frank\"    male   NaN      0   \n",
            "..                                                 ...     ...   ...    ...   \n",
            "527                                 Farthing, Mr. John    male   NaN      0   \n",
            "716                      Endres, Miss. Caroline Louise  female  38.0      0   \n",
            "380                              Bidois, Miss. Rosalie  female  42.0      0   \n",
            "557                                Robbins, Mr. Victor    male   NaN      0   \n",
            "700  Astor, Mrs. John Jacob (Madeleine Talmadge Force)  female  18.0      1   \n",
            "\n",
            "     Parch    Ticket      Fare    Cabin Embarked  \n",
            "271      0      LINE    0.0000      NaN        S  \n",
            "597      0      LINE    0.0000      NaN        S  \n",
            "302      0      LINE    0.0000      NaN        S  \n",
            "633      0    112052    0.0000      NaN        S  \n",
            "277      0    239853    0.0000      NaN        S  \n",
            "..     ...       ...       ...      ...      ...  \n",
            "527      0  PC 17483  221.7792      C95        S  \n",
            "716      0  PC 17757  227.5250      C45        C  \n",
            "380      0  PC 17757  227.5250      NaN        C  \n",
            "557      0  PC 17757  227.5250      NaN        C  \n",
            "700      0  PC 17757  227.5250  C62 C64        C  \n",
            "\n",
            "[880 rows x 12 columns]\n"
          ]
        }
      ]
    },
    {
      "cell_type": "code",
      "source": [
        "lb,ub = detect_outliers(data[\"Age\"],5)\n",
        "# removing the rows which are greater than upperbound\n",
        "df.drop(df[df.Age > ub].index, inplace=True)\n",
        "# removing the rows which are less than lowerbound\n",
        "df.drop(df[df.Age < lb].index, inplace=True)\n",
        "print(\"lb: \",lb,\"ub: \",ub)\n",
        "df.sort_values(by=\"Age\",ascending=False,inplace=True)"
      ],
      "metadata": {
        "colab": {
          "base_uri": "https://localhost:8080/"
        },
        "id": "tClJbRYL2z2D",
        "outputId": "97113e9d-526a-4c7d-e7f6-a794c0571f15"
      },
      "execution_count": 6,
      "outputs": [
        {
          "output_type": "stream",
          "name": "stdout",
          "text": [
            "lb:  0.42 ub:  80.0\n"
          ]
        }
      ]
    },
    {
      "cell_type": "code",
      "source": [
        "print(df)"
      ],
      "metadata": {
        "colab": {
          "base_uri": "https://localhost:8080/"
        },
        "id": "mq3226F423bN",
        "outputId": "4cf864e0-1637-4197-ba85-d1e5524f97fb"
      },
      "execution_count": 7,
      "outputs": [
        {
          "output_type": "stream",
          "name": "stdout",
          "text": [
            "     PassengerId  Survived  Pclass  \\\n",
            "630          631         1       1   \n",
            "851          852         0       3   \n",
            "96            97         0       1   \n",
            "493          494         0       1   \n",
            "116          117         0       3   \n",
            "..           ...       ...     ...   \n",
            "306          307         1       1   \n",
            "334          335         1       1   \n",
            "31            32         1       1   \n",
            "527          528         0       1   \n",
            "557          558         0       1   \n",
            "\n",
            "                                                  Name     Sex   Age  SibSp  \\\n",
            "630               Barkworth, Mr. Algernon Henry Wilson    male  80.0      0   \n",
            "851                                Svensson, Mr. Johan    male  74.0      0   \n",
            "96                           Goldschmidt, Mr. George B    male  71.0      0   \n",
            "493                            Artagaveytia, Mr. Ramon    male  71.0      0   \n",
            "116                               Connors, Mr. Patrick    male  70.5      0   \n",
            "..                                                 ...     ...   ...    ...   \n",
            "306                            Fleming, Miss. Margaret  female   NaN      0   \n",
            "334  Frauenthal, Mrs. Henry William (Clara Heinshei...  female   NaN      1   \n",
            "31      Spencer, Mrs. William Augustus (Marie Eugenie)  female   NaN      1   \n",
            "527                                 Farthing, Mr. John    male   NaN      0   \n",
            "557                                Robbins, Mr. Victor    male   NaN      0   \n",
            "\n",
            "     Parch    Ticket      Fare Cabin Embarked  \n",
            "630      0     27042   30.0000   A23        S  \n",
            "851      0    347060    7.7750   NaN        S  \n",
            "96       0  PC 17754   34.6542    A5        C  \n",
            "493      0  PC 17609   49.5042   NaN        C  \n",
            "116      0    370369    7.7500   NaN        Q  \n",
            "..     ...       ...       ...   ...      ...  \n",
            "306      0     17421  110.8833   NaN        C  \n",
            "334      0  PC 17611  133.6500   NaN        S  \n",
            "31       0  PC 17569  146.5208   B78        C  \n",
            "527      0  PC 17483  221.7792   C95        S  \n",
            "557      0  PC 17757  227.5250   NaN        C  \n",
            "\n",
            "[880 rows x 12 columns]\n"
          ]
        }
      ]
    },
    {
      "cell_type": "code",
      "source": [
        "'''b. Determine missing values in each column of Titanic data. If missing values account for 30% of data, then remove the column.'''\n",
        "#printing the missing value percentage for every column\n",
        "df.isnull().mean() * 100"
      ],
      "metadata": {
        "colab": {
          "base_uri": "https://localhost:8080/"
        },
        "id": "Trz4Ic9725Px",
        "outputId": "bb8e6872-1e1b-480c-94a2-58cf8e77cd0b"
      },
      "execution_count": 9,
      "outputs": [
        {
          "output_type": "execute_result",
          "data": {
            "text/plain": [
              "PassengerId     0.000000\n",
              "Survived        0.000000\n",
              "Pclass          0.000000\n",
              "Name            0.000000\n",
              "Sex             0.000000\n",
              "Age            20.113636\n",
              "SibSp           0.000000\n",
              "Parch           0.000000\n",
              "Ticket          0.000000\n",
              "Fare            0.000000\n",
              "Cabin          77.954545\n",
              "Embarked        0.227273\n",
              "dtype: float64"
            ]
          },
          "metadata": {},
          "execution_count": 9
        }
      ]
    },
    {
      "cell_type": "code",
      "source": [
        "# get all the column names in our dataset\n",
        "df.columns"
      ],
      "metadata": {
        "colab": {
          "base_uri": "https://localhost:8080/"
        },
        "id": "OreGnIAy3U7U",
        "outputId": "59cb7645-443d-44bc-c462-110e61ecf0af"
      },
      "execution_count": 10,
      "outputs": [
        {
          "output_type": "execute_result",
          "data": {
            "text/plain": [
              "Index(['PassengerId', 'Survived', 'Pclass', 'Name', 'Sex', 'Age', 'SibSp',\n",
              "       'Parch', 'Ticket', 'Fare', 'Cabin', 'Embarked'],\n",
              "      dtype='object')"
            ]
          },
          "metadata": {},
          "execution_count": 10
        }
      ]
    },
    {
      "cell_type": "code",
      "source": [
        "# As we can see cabin column has more than 30% of missing values, so we have to drop that column\n",
        "df.drop(['Cabin'],inplace=True,axis=1)\n",
        "# after removing the column cabin, printing the columns again. If you observe there is no Cabin in the output\n",
        "df.columns"
      ],
      "metadata": {
        "colab": {
          "base_uri": "https://localhost:8080/"
        },
        "id": "EBVDeyj13dUN",
        "outputId": "7bbf23ae-b758-46ba-8101-f7426da4577f"
      },
      "execution_count": 11,
      "outputs": [
        {
          "output_type": "execute_result",
          "data": {
            "text/plain": [
              "Index(['PassengerId', 'Survived', 'Pclass', 'Name', 'Sex', 'Age', 'SibSp',\n",
              "       'Parch', 'Ticket', 'Fare', 'Embarked'],\n",
              "      dtype='object')"
            ]
          },
          "metadata": {},
          "execution_count": 11
        }
      ]
    },
    {
      "cell_type": "code",
      "source": [
        "'''c. If missing values are less than 30% of entire data then create a new data frame i. Missing values in numeric columns are filled with the mean\n",
        "of the corresponding column.'''\n",
        "#printing the percentage of missing values in Age before handling\n",
        "df['Age'].isnull().mean() * 100"
      ],
      "metadata": {
        "colab": {
          "base_uri": "https://localhost:8080/"
        },
        "id": "6lmJLUzC3ihe",
        "outputId": "11de62a6-f250-42e7-e09d-4190cfbd31e2"
      },
      "execution_count": 12,
      "outputs": [
        {
          "output_type": "execute_result",
          "data": {
            "text/plain": [
              "20.113636363636363"
            ]
          },
          "metadata": {},
          "execution_count": 12
        }
      ]
    },
    {
      "cell_type": "code",
      "source": [
        "# Filling the missing values with the mean of respective column\n",
        "df['Age']=df['Age'].fillna(df['Age'].mean())\n",
        "#printing the percentage of missing values in Age after handling\n",
        "df['Age'].isnull().mean() * 100"
      ],
      "metadata": {
        "colab": {
          "base_uri": "https://localhost:8080/"
        },
        "id": "HpxP37Nj3o_z",
        "outputId": "1afdeacc-ac26-4d1f-9b88-108155b62018"
      },
      "execution_count": 13,
      "outputs": [
        {
          "output_type": "execute_result",
          "data": {
            "text/plain": [
              "0.0"
            ]
          },
          "metadata": {},
          "execution_count": 13
        }
      ]
    },
    {
      "cell_type": "code",
      "source": [
        "'''ii. Missing values in categorical columns are filled with the most frequently occurring value.'''\n",
        "#printing the percentage of missing values in Embarked before handling\n",
        "df['Embarked'].isnull().mean() * 100"
      ],
      "metadata": {
        "colab": {
          "base_uri": "https://localhost:8080/"
        },
        "id": "WqHzlDaz3tXr",
        "outputId": "b36eea87-0715-4bd3-839c-33eaa2915bf3"
      },
      "execution_count": 14,
      "outputs": [
        {
          "output_type": "execute_result",
          "data": {
            "text/plain": [
              "0.22727272727272727"
            ]
          },
          "metadata": {},
          "execution_count": 14
        }
      ]
    },
    {
      "cell_type": "code",
      "source": [
        "# filling with filled with the most frequently occurring value.\n",
        "df[\"Embarked\"].fillna(df['Embarked'].mode()[0],inplace=True)\n",
        "#printing the percentage of missing values in Embarked after handling\n",
        "df['Embarked'].isnull().mean() * 100"
      ],
      "metadata": {
        "colab": {
          "base_uri": "https://localhost:8080/"
        },
        "id": "-JZgl-cZ3zeD",
        "outputId": "f3d26b18-d404-40f8-b6df-52437618ce31"
      },
      "execution_count": 15,
      "outputs": [
        {
          "output_type": "execute_result",
          "data": {
            "text/plain": [
              "0.0"
            ]
          },
          "metadata": {},
          "execution_count": 15
        }
      ]
    },
    {
      "cell_type": "code",
      "source": [
        "df.to_csv(\"/content/drive/MyDrive/AI Tools Lab/nonnull_titanic.csv\",index=False)"
      ],
      "metadata": {
        "id": "FMoOFkRu343_"
      },
      "execution_count": 16,
      "outputs": []
    }
  ]
}