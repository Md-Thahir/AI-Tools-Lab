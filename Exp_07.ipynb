{
  "nbformat": 4,
  "nbformat_minor": 0,
  "metadata": {
    "colab": {
      "provenance": [],
      "mount_file_id": "1XxukO9XNYVuQ_O90NLyhjBie-0Zer_fa",
      "authorship_tag": "ABX9TyPizjH/Rb4hkcJYJVCXou6C",
      "include_colab_link": true
    },
    "kernelspec": {
      "name": "python3",
      "display_name": "Python 3"
    },
    "language_info": {
      "name": "python"
    }
  },
  "cells": [
    {
      "cell_type": "markdown",
      "metadata": {
        "id": "view-in-github",
        "colab_type": "text"
      },
      "source": [
        "<a href=\"https://colab.research.google.com/github/Md-Thahir/AI-Tools-Lab/blob/main/Exp_07.ipynb\" target=\"_parent\"><img src=\"https://colab.research.google.com/assets/colab-badge.svg\" alt=\"Open In Colab\"/></a>"
      ]
    },
    {
      "cell_type": "code",
      "execution_count": null,
      "metadata": {
        "colab": {
          "base_uri": "https://localhost:8080/"
        },
        "id": "AIN7f94zkR2u",
        "outputId": "07495227-19b8-47d8-8fa6-7021584e058b"
      },
      "outputs": [
        {
          "output_type": "stream",
          "name": "stdout",
          "text": [
            "   PassengerId  Survived  Pclass  \\\n",
            "0            1         0       3   \n",
            "1            2         1       1   \n",
            "2            3         1       3   \n",
            "3            4         1       1   \n",
            "4            5         0       3   \n",
            "\n",
            "                                                Name     Sex   Age  SibSp  \\\n",
            "0                            Braund, Mr. Owen Harris    male  22.0      1   \n",
            "1  Cumings, Mrs. John Bradley (Florence Briggs Th...  female  38.0      1   \n",
            "2                             Heikkinen, Miss. Laina  female  26.0      0   \n",
            "3       Futrelle, Mrs. Jacques Heath (Lily May Peel)  female  35.0      1   \n",
            "4                           Allen, Mr. William Henry    male  35.0      0   \n",
            "\n",
            "   Parch            Ticket     Fare Cabin Embarked  \n",
            "0      0         A/5 21171   7.2500   NaN        S  \n",
            "1      0          PC 17599  71.2833   C85        C  \n",
            "2      0  STON/O2. 3101282   7.9250   NaN        S  \n",
            "3      0            113803  53.1000  C123        S  \n",
            "4      0            373450   8.0500   NaN        S  \n"
          ]
        }
      ],
      "source": [
        "'''a. Determine the data type of each column.'''\n",
        "# importing all the necessary libraries\n",
        "import pandas as pd\n",
        "import numpy as np\n",
        "#we need to read the data\n",
        "data = pd.read_csv(\"/content/drive/MyDrive/AI Tools Lab/train.csv\")\n",
        "#print top 5 rows\n",
        "print(data.head())"
      ]
    },
    {
      "cell_type": "code",
      "source": [
        "# to get the datatype of all columns we can use Dataframe.dtypes\n",
        "print(data.dtypes)"
      ],
      "metadata": {
        "colab": {
          "base_uri": "https://localhost:8080/"
        },
        "id": "PAiqEiwSm1Zg",
        "outputId": "abff38f2-f16b-47d1-daaa-f6d290528bbe"
      },
      "execution_count": null,
      "outputs": [
        {
          "output_type": "stream",
          "name": "stdout",
          "text": [
            "PassengerId      int64\n",
            "Survived         int64\n",
            "Pclass           int64\n",
            "Name            object\n",
            "Sex             object\n",
            "Age            float64\n",
            "SibSp            int64\n",
            "Parch            int64\n",
            "Ticket          object\n",
            "Fare           float64\n",
            "Cabin           object\n",
            "Embarked        object\n",
            "dtype: object\n"
          ]
        }
      ]
    },
    {
      "cell_type": "code",
      "source": [
        "'''b. Find the number of non-null values in each column.'''\n",
        "# Dataframe.info() gives all information about every column in our dataset\n",
        "data.info()"
      ],
      "metadata": {
        "colab": {
          "base_uri": "https://localhost:8080/"
        },
        "id": "APW-yZP5nJtl",
        "outputId": "b62ed2c2-58fa-438e-8224-40b723da19c3"
      },
      "execution_count": null,
      "outputs": [
        {
          "output_type": "stream",
          "name": "stdout",
          "text": [
            "<class 'pandas.core.frame.DataFrame'>\n",
            "RangeIndex: 891 entries, 0 to 890\n",
            "Data columns (total 12 columns):\n",
            " #   Column       Non-Null Count  Dtype  \n",
            "---  ------       --------------  -----  \n",
            " 0   PassengerId  891 non-null    int64  \n",
            " 1   Survived     891 non-null    int64  \n",
            " 2   Pclass       891 non-null    int64  \n",
            " 3   Name         891 non-null    object \n",
            " 4   Sex          891 non-null    object \n",
            " 5   Age          714 non-null    float64\n",
            " 6   SibSp        891 non-null    int64  \n",
            " 7   Parch        891 non-null    int64  \n",
            " 8   Ticket       891 non-null    object \n",
            " 9   Fare         891 non-null    float64\n",
            " 10  Cabin        204 non-null    object \n",
            " 11  Embarked     889 non-null    object \n",
            "dtypes: float64(2), int64(5), object(5)\n",
            "memory usage: 83.7+ KB\n"
          ]
        }
      ]
    },
    {
      "cell_type": "code",
      "source": [
        "'''c. Find out the unique values in each categorical column and frequency of each unique value.'''\n",
        "# categorical is nothing but the datatype which is other than numerical datatype\n",
        "#(i.e int to get the all categorical columns, we can use Dataframe.select_dtypes and we have to store datatype we required.\n",
        "# In our case it would be \"object\" datatype\n",
        "categorical_cols = data.select_dtypes(include=['object']).columns.tolist()\n",
        "print(\"Categorical columns are : \",categorical_cols)\n",
        "print(\"printing the results\")\n",
        "for i in categorical_cols:\n",
        "  print(\"========== Column '\"+i+\"' =============\")\n",
        "  print(data[i].value_counts())"
      ],
      "metadata": {
        "colab": {
          "base_uri": "https://localhost:8080/"
        },
        "id": "4KFu-I9RnXGI",
        "outputId": "7e228f73-f2df-4ba2-8732-a0d93885efa1"
      },
      "execution_count": null,
      "outputs": [
        {
          "output_type": "stream",
          "name": "stdout",
          "text": [
            "Categorical columns are :  ['Name', 'Sex', 'Ticket', 'Cabin', 'Embarked']\n",
            "printing the results\n",
            "========== Column 'Name' =============\n",
            "Name\n",
            "Braund, Mr. Owen Harris                     1\n",
            "Boulos, Mr. Hanna                           1\n",
            "Frolicher-Stehli, Mr. Maxmillian            1\n",
            "Gilinski, Mr. Eliezer                       1\n",
            "Murdlin, Mr. Joseph                         1\n",
            "                                           ..\n",
            "Kelly, Miss. Anna Katherine \"Annie Kate\"    1\n",
            "McCoy, Mr. Bernard                          1\n",
            "Johnson, Mr. William Cahoone Jr             1\n",
            "Keane, Miss. Nora A                         1\n",
            "Dooley, Mr. Patrick                         1\n",
            "Name: count, Length: 891, dtype: int64\n",
            "========== Column 'Sex' =============\n",
            "Sex\n",
            "male      577\n",
            "female    314\n",
            "Name: count, dtype: int64\n",
            "========== Column 'Ticket' =============\n",
            "Ticket\n",
            "347082      7\n",
            "CA. 2343    7\n",
            "1601        7\n",
            "3101295     6\n",
            "CA 2144     6\n",
            "           ..\n",
            "9234        1\n",
            "19988       1\n",
            "2693        1\n",
            "PC 17612    1\n",
            "370376      1\n",
            "Name: count, Length: 681, dtype: int64\n",
            "========== Column 'Cabin' =============\n",
            "Cabin\n",
            "B96 B98        4\n",
            "G6             4\n",
            "C23 C25 C27    4\n",
            "C22 C26        3\n",
            "F33            3\n",
            "              ..\n",
            "E34            1\n",
            "C7             1\n",
            "C54            1\n",
            "E36            1\n",
            "C148           1\n",
            "Name: count, Length: 147, dtype: int64\n",
            "========== Column 'Embarked' =============\n",
            "Embarked\n",
            "S    644\n",
            "C    168\n",
            "Q     77\n",
            "Name: count, dtype: int64\n"
          ]
        }
      ]
    },
    {
      "cell_type": "code",
      "source": [
        "'''d. Find the number of rows where age is greater than the mean age of data.'''\n",
        "\n",
        "# to get mean of age column\n",
        "age_mean = data['Age'].mean()\n",
        "print(\"Mean of Age is : \",age_mean)\n",
        "print(\"printing the result\")\n",
        "print(np.sum(data['Age']>age_mean))"
      ],
      "metadata": {
        "colab": {
          "base_uri": "https://localhost:8080/"
        },
        "id": "asHGPcL1oE94",
        "outputId": "0e84ac00-330f-415b-a0ea-ec0e0a76dfc5"
      },
      "execution_count": null,
      "outputs": [
        {
          "output_type": "stream",
          "name": "stdout",
          "text": [
            "Mean of Age is :  29.69911764705882\n",
            "printing the result\n",
            "330\n"
          ]
        }
      ]
    },
    {
      "cell_type": "code",
      "source": [
        "'''e. Delete all the rows with missing values.'''\n",
        "\n",
        "print(\"length of dataframe before deleting rows with missing values\",len(data))\n",
        "# deletes the rows where at least one element is missing\n",
        "data.dropna(inplace=True)\n",
        "print(\"length of dataframe after the deletion of missing value rows\",len(data))"
      ],
      "metadata": {
        "colab": {
          "base_uri": "https://localhost:8080/"
        },
        "id": "rA58pwfdoXRp",
        "outputId": "7c09d7bf-8bcd-473d-db80-647c2402fa8b"
      },
      "execution_count": null,
      "outputs": [
        {
          "output_type": "stream",
          "name": "stdout",
          "text": [
            "length of dataframe before deleting rows with missing values 891\n",
            "length of dataframe after the deletion of missing value rows 183\n"
          ]
        }
      ]
    },
    {
      "cell_type": "code",
      "source": [
        "data.info()"
      ],
      "metadata": {
        "colab": {
          "base_uri": "https://localhost:8080/"
        },
        "id": "Qg5-4q05oh-S",
        "outputId": "e89e9c94-3721-4473-ccf8-96c1969eea21"
      },
      "execution_count": null,
      "outputs": [
        {
          "output_type": "stream",
          "name": "stdout",
          "text": [
            "<class 'pandas.core.frame.DataFrame'>\n",
            "Index: 183 entries, 1 to 889\n",
            "Data columns (total 12 columns):\n",
            " #   Column       Non-Null Count  Dtype  \n",
            "---  ------       --------------  -----  \n",
            " 0   PassengerId  183 non-null    int64  \n",
            " 1   Survived     183 non-null    int64  \n",
            " 2   Pclass       183 non-null    int64  \n",
            " 3   Name         183 non-null    object \n",
            " 4   Sex          183 non-null    object \n",
            " 5   Age          183 non-null    float64\n",
            " 6   SibSp        183 non-null    int64  \n",
            " 7   Parch        183 non-null    int64  \n",
            " 8   Ticket       183 non-null    object \n",
            " 9   Fare         183 non-null    float64\n",
            " 10  Cabin        183 non-null    object \n",
            " 11  Embarked     183 non-null    object \n",
            "dtypes: float64(2), int64(5), object(5)\n",
            "memory usage: 18.6+ KB\n"
          ]
        }
      ]
    },
    {
      "cell_type": "code",
      "source": [
        "''' Find the number of rows where age is greater than the mean age of data.'''\n",
        "# to get mean of age column\n",
        "age_mean = data['Age'].mean()\n",
        "print(\"Mean of Age is : \",age_mean)\n",
        "print(\"printing the result\")\n",
        "print(np.sum(data['Age']>age_mean))"
      ],
      "metadata": {
        "colab": {
          "base_uri": "https://localhost:8080/"
        },
        "id": "q2nZzhx8omcA",
        "outputId": "46976d3c-5beb-4755-c69a-728e038f1d92"
      },
      "execution_count": null,
      "outputs": [
        {
          "output_type": "stream",
          "name": "stdout",
          "text": [
            "Mean of Age is :  35.6744262295082\n",
            "printing the result\n",
            "93\n"
          ]
        }
      ]
    },
    {
      "cell_type": "code",
      "source": [
        "import pandas as pd\n",
        "import numpy as np\n",
        "df=pd.read_csv(\"/content/drive/MyDrive/AI Tools Lab/boo.csv\")\n",
        "print(df)"
      ],
      "metadata": {
        "colab": {
          "base_uri": "https://localhost:8080/"
        },
        "id": "LActAuK1pXfT",
        "outputId": "2182dfb9-81af-49bb-aa58-2c5e835f03e2"
      },
      "execution_count": null,
      "outputs": [
        {
          "output_type": "stream",
          "name": "stdout",
          "text": [
            "  name  rollno Gender\n",
            "0    A    11.0      M\n",
            "1    B    22.0    NaN\n",
            "2    C    33.0      F\n",
            "3    D     NaN      F\n"
          ]
        }
      ]
    },
    {
      "cell_type": "code",
      "source": [
        "print(\"length of dataframe before deleting rows with missing values\",len(df))\n",
        "# deletes the rows where at least one element is missing\n",
        "print(df)\n",
        "print(df.dropna())\n",
        "print(df)\n",
        "print(\"length of dataframe after the deletion of missing value rows\",len(df))"
      ],
      "metadata": {
        "colab": {
          "base_uri": "https://localhost:8080/"
        },
        "id": "Pps-mJQlsBJ4",
        "outputId": "545fa39d-ee44-4a42-abe7-80a0bf815adc"
      },
      "execution_count": null,
      "outputs": [
        {
          "output_type": "stream",
          "name": "stdout",
          "text": [
            "length of dataframe before deleting rows with missing values 4\n",
            "  name  rollno Gender\n",
            "0    A    11.0      M\n",
            "1    B    22.0    NaN\n",
            "2    C    33.0      F\n",
            "3    D     NaN      F\n",
            "  name  rollno Gender\n",
            "0    A    11.0      M\n",
            "2    C    33.0      F\n",
            "  name  rollno Gender\n",
            "0    A    11.0      M\n",
            "1    B    22.0    NaN\n",
            "2    C    33.0      F\n",
            "3    D     NaN      F\n",
            "length of dataframe after the deletion of missing value rows 4\n"
          ]
        }
      ]
    },
    {
      "cell_type": "code",
      "source": [
        "print(df)\n",
        "print(df.dropna(inplace=True))\n",
        "print(df)"
      ],
      "metadata": {
        "colab": {
          "base_uri": "https://localhost:8080/"
        },
        "id": "4DoRKiuXsdAF",
        "outputId": "fe578833-7978-4ae9-9286-364e038c704f"
      },
      "execution_count": null,
      "outputs": [
        {
          "output_type": "stream",
          "name": "stdout",
          "text": [
            "  name  rollno Gender\n",
            "0    A    11.0      M\n",
            "1    B    22.0    NaN\n",
            "2    C    33.0      F\n",
            "3    D     NaN      F\n",
            "None\n",
            "  name  rollno Gender\n",
            "0    A    11.0      M\n",
            "2    C    33.0      F\n"
          ]
        }
      ]
    },
    {
      "cell_type": "code",
      "source": [
        "#Correlation between each column\n",
        "import seaborn as sns\n",
        "import matplotlib.pyplot as plt\n",
        "df=pd.read_csv(\"/content/drive/MyDrive/AI Tools Lab/numbercorr.csv\")\n",
        "print(df)\n",
        "print(df.corr())\n",
        "sns.heatmap(df.corr(),cmap='coolwarm',xticklabels=True,annot=True)\n",
        "plt.title('df.corr()')"
      ],
      "metadata": {
        "colab": {
          "base_uri": "https://localhost:8080/",
          "height": 730
        },
        "id": "HRVrp01Xs1Lk",
        "outputId": "d8b68a6f-4663-4db7-fc1c-f4ae929f7731"
      },
      "execution_count": null,
      "outputs": [
        {
          "output_type": "stream",
          "name": "stdout",
          "text": [
            "   Roll  Reverseroll  randomno\n",
            "0     1           10         2\n",
            "1     2            9         3\n",
            "2     3            8         1\n",
            "3     4            7         4\n",
            "4     5            6         5\n",
            "5     6            5         7\n",
            "6     7            4         6\n",
            "7     8            3         8\n",
            "8     9            2         9\n",
            "9    10            1        10\n",
            "                 Roll  Reverseroll  randomno\n",
            "Roll         1.000000    -1.000000  0.951515\n",
            "Reverseroll -1.000000     1.000000 -0.951515\n",
            "randomno     0.951515    -0.951515  1.000000\n"
          ]
        },
        {
          "output_type": "execute_result",
          "data": {
            "text/plain": [
              "Text(0.5, 1.0, 'df.corr()')"
            ]
          },
          "metadata": {},
          "execution_count": 20
        },
        {
          "output_type": "display_data",
          "data": {
            "text/plain": [
              "<Figure size 640x480 with 2 Axes>"
            ],
            "image/png": "[encoded data removed]"
          },
          "metadata": {}
        }
      ]
    }
  ]
}