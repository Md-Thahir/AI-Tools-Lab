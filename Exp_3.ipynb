{
  "nbformat": 4,
  "nbformat_minor": 0,
  "metadata": {
    "colab": {
      "provenance": [],
      "mount_file_id": "1qaAjC9oszHByH65i_wKyQaVnfL9q0mE0",
      "authorship_tag": "ABX9TyO5Co9ObHIn4M+qr9B68ScL",
      "include_colab_link": true
    },
    "kernelspec": {
      "name": "python3",
      "display_name": "Python 3"
    },
    "language_info": {
      "name": "python"
    }
  },
  "cells": [
    {
      "cell_type": "markdown",
      "metadata": {
        "id": "view-in-github",
        "colab_type": "text"
      },
      "source": [
        "<a href=\"https://colab.research.google.com/github/Md-Thahir/AI-Tools-Lab/blob/main/Exp_3.ipynb\" target=\"_parent\"><img src=\"https://colab.research.google.com/assets/colab-badge.svg\" alt=\"Open In Colab\"/></a>"
      ]
    },
    {
      "cell_type": "code",
      "execution_count": 2,
      "metadata": {
        "colab": {
          "base_uri": "https://localhost:8080/"
        },
        "id": "D6sSjrwid9f7",
        "outputId": "0364076d-525b-40e3-9b3d-f8744066af46"
      },
      "outputs": [
        {
          "output_type": "stream",
          "name": "stdout",
          "text": [
            "Enter no. of values:10\n",
            "10  random numbers from a standard normal distribution:\n",
            "[-1.08957636 -1.59904117 -0.6413815   1.8456476  -0.887324   -0.05924803\n",
            "  0.32828573  0.07647769  0.23659604 -0.87328141]\n",
            "(1, 10)\n"
          ]
        }
      ],
      "source": [
        "'''a.To generate an array of random numbers from a normal distribution for the array of a\n",
        "given shape.'''\n",
        "import numpy as np\n",
        "# Enter the value of n\n",
        "n=int(input('Enter no. of values:'))\n",
        "# Generates n random numbers from Normal Distribution\n",
        "rand_num = np.random.normal(0,1,n)\n",
        "print(n, \" random numbers from a standard normal distribution:\")\n",
        "print(rand_num)\n",
        "arr=np.array([rand_num])\n",
        "# Displays the size of the Array\n",
        "print(arr.shape)"
      ]
    },
    {
      "cell_type": "code",
      "source": [
        "'''b. Implement Arithmetic operations on two arrays (perform broadcasting also.)'''\n",
        "#Generates an Array A with 0 to 11 in a 3X4 form\n",
        "A = np.arange(12).reshape(3,4)\n",
        "print(A)\n",
        "#Generates an Array B with 0 to 3 in a 1X3 form\n",
        "B = np.arange(4)\n",
        "print(B)\n",
        "#Performs the addition between A and B\n",
        "c=A+B\n",
        "print(c)\n",
        "#Similarly perform remaining arithmetic operations (Subtraction,multiplication, division )"
      ],
      "metadata": {
        "colab": {
          "base_uri": "https://localhost:8080/"
        },
        "id": "M9uAfj-igGm4",
        "outputId": "ff44c58d-46de-42d3-d08c-82b1308305ec"
      },
      "execution_count": 3,
      "outputs": [
        {
          "output_type": "stream",
          "name": "stdout",
          "text": [
            "[[ 0  1  2  3]\n",
            " [ 4  5  6  7]\n",
            " [ 8  9 10 11]]\n",
            "[0 1 2 3]\n",
            "[[ 0  2  4  6]\n",
            " [ 4  6  8 10]\n",
            " [ 8 10 12 14]]\n"
          ]
        }
      ]
    },
    {
      "cell_type": "code",
      "source": [
        "'''c. Find minimum, maximum, mean in a given array. ( in both the axes )'''\n",
        "arr = np.array([[11, 2, 3],[4, 5, 16],[7, 81, 22]])\n",
        "# finding the maximum and minimum element in the array\n",
        "max_element = np.max(arr)\n",
        "min_element = np.min(arr)\n",
        "# printing the result\n",
        "print('maximum element in the array is:', max_element)\n",
        "print('minimumm element in the array is:', min_element)\n",
        "# finding the maximum and\n",
        "# minimum element in the array\n",
        "max_element_column = np.max(arr, 0)\n",
        "max_element_row = np.max(arr, 1)\n",
        "min_element_column = np.amin(arr, 0)\n",
        "min_element_row = np.amin(arr, 1)\n",
        "# printing the result\n",
        "print('maximum elements in the columns of the array is:',max_element_column)\n",
        "print('maximum elements in the rows of the array is:', max_element_row)\n",
        "print('minimum elements in the columns of the array is:',min_element_column)\n",
        "print('minimum elements in the rows of the array is:',min_element_row)\n",
        "# mean of the flattened array\n",
        "print(\"\\nmean of arr, axis = None : \", np.mean(arr))\n",
        "# mean along the axis = 0 (row-wise)\n",
        "print(\"\\nmean of arr, axis = 0 : \", np.mean(arr, axis = 0))\n",
        "# mean along the axis = 1 (Column-wise)\n",
        "print(\"\\nmean of arr, axis = 1 : \", np.mean(arr, axis = 1))"
      ],
      "metadata": {
        "colab": {
          "base_uri": "https://localhost:8080/"
        },
        "id": "rPPzikQZgfao",
        "outputId": "129c673a-83ad-4ddd-94d7-a85d3928cfa0"
      },
      "execution_count": 4,
      "outputs": [
        {
          "output_type": "stream",
          "name": "stdout",
          "text": [
            "maximum element in the array is: 81\n",
            "minimumm element in the array is: 2\n",
            "maximum elements in the columns of the array is: [11 81 22]\n",
            "maximum elements in the rows of the array is: [11 16 81]\n",
            "minimum elements in the columns of the array is: [4 2 3]\n",
            "minimum elements in the rows of the array is: [2 4 7]\n",
            "\n",
            "mean of arr, axis = None :  16.77777777777778\n",
            "\n",
            "mean of arr, axis = 0 :  [ 7.33333333 29.33333333 13.66666667]\n",
            "\n",
            "mean of arr, axis = 1 :  [ 5.33333333  8.33333333 36.66666667]\n"
          ]
        }
      ]
    },
    {
      "cell_type": "code",
      "source": [
        "'''d. Implement np.arange and np.linspace functions.'''\n",
        "\n",
        "# Prints all numbers from 0 to 9 in steps of 1\n",
        "arr=np.linspace(start = 0, stop = 10, num = 11,dtype = int)\n",
        "print(arr)\n",
        "arr=np.linspace(start = 0, stop = 1, num = 11)\n",
        "print(arr)\n",
        "# Prints all numbers from 1 to 2 in steps of 0.1\n",
        "print(np.arange(1, 2, 0.1))"
      ],
      "metadata": {
        "colab": {
          "base_uri": "https://localhost:8080/"
        },
        "id": "2XYpPjtdgy9c",
        "outputId": "a5688e48-50ba-4b11-de0f-14c6db3b60e0"
      },
      "execution_count": 5,
      "outputs": [
        {
          "output_type": "stream",
          "name": "stdout",
          "text": [
            "[ 0  1  2  3  4  5  6  7  8  9 10]\n",
            "[0.  0.1 0.2 0.3 0.4 0.5 0.6 0.7 0.8 0.9 1. ]\n",
            "[1.  1.1 1.2 1.3 1.4 1.5 1.6 1.7 1.8 1.9]\n"
          ]
        }
      ]
    },
    {
      "cell_type": "code",
      "source": [
        "'''e. Create a pandas series from a given list.'''\n",
        "\n",
        "# import pandas lib. as pd\n",
        "import pandas as pd\n",
        "# Assume l1 is a list of the following words\n",
        "l1 = ['ZERO', 'ONE', 'TWO', 'THREE','FOUR', 'FIVE', 'SIX','SEVEN','EIGHT','NINE','TEN']\n",
        "# create Pandas Series with define indexes\n",
        "x = pd.Series(l1)\n",
        "# print the Series\n",
        "print(x)"
      ],
      "metadata": {
        "colab": {
          "base_uri": "https://localhost:8080/"
        },
        "id": "wr03dEwjhKEw",
        "outputId": "1bcaa272-935c-4792-ddea-9f8e0595ead9"
      },
      "execution_count": 6,
      "outputs": [
        {
          "output_type": "stream",
          "name": "stdout",
          "text": [
            "0      ZERO\n",
            "1       ONE\n",
            "2       TWO\n",
            "3     THREE\n",
            "4      FOUR\n",
            "5      FIVE\n",
            "6       SIX\n",
            "7     SEVEN\n",
            "8     EIGHT\n",
            "9      NINE\n",
            "10      TEN\n",
            "dtype: object\n"
          ]
        }
      ]
    },
    {
      "cell_type": "code",
      "source": [
        "'''f. Create pandas series with data and index and display the index values.'''\n",
        "\n",
        "# import pandas lib. as pd\n",
        "import pandas as pd\n",
        "# create Pandas Series with define indexes\n",
        "x = pd.Series([10, 20, 30, 40, 50], index =['a', 'b', 'c', 'd', 'e'])\n",
        "# print the Series\n",
        "print(x)"
      ],
      "metadata": {
        "colab": {
          "base_uri": "https://localhost:8080/"
        },
        "id": "AnAVrPEqhcG8",
        "outputId": "98c309f8-2b39-4155-d3e8-7aa4dabbe224"
      },
      "execution_count": 7,
      "outputs": [
        {
          "output_type": "stream",
          "name": "stdout",
          "text": [
            "a    10\n",
            "b    20\n",
            "c    30\n",
            "d    40\n",
            "e    50\n",
            "dtype: int64\n"
          ]
        }
      ]
    },
    {
      "cell_type": "code",
      "source": [
        "'''g. Create a data frame with columns at least 5 observations\n",
        "i. select a particular column from the DataFrame\n",
        "ii. Summarize the data frame and observe the stats of the DataFrame created\n",
        "iii. Observe the mean and standard deviation of the data frame and print the values.'''\n",
        "\n",
        "import pandas as pd\n",
        "import numpy as np\n",
        "exam_data = {'name': ['Anastasia', 'Dima', 'Katherine', 'James', 'Emily'],'score': [12.5, 9, 16.5,np.nan, 9],'attempts': [1, 3, 2, 3, 2],'qualify': ['yes', 'no', 'yes', 'no', 'no']}\n",
        "labels = ['a', 'b', 'c', 'd', 'e']\n",
        "df = pd.DataFrame(exam_data , index=labels)\n",
        "print(\"Dataset is as follows\")\n",
        "print(df)\n",
        "print(\"Summary of the Dataset\")\n",
        "print(df.info())\n",
        "print(\"Statistical values of numerical attributes\")\n",
        "print(df.describe())\n",
        "meanvalue=df.score.mean()\n",
        "stdvalue=df.score.std()\n",
        "print('mean value of Score is',meanvalue)\n",
        "print('Standard deviation of score is',stdvalue)"
      ],
      "metadata": {
        "colab": {
          "base_uri": "https://localhost:8080/"
        },
        "id": "Uix_99FRhmmm",
        "outputId": "7292c53d-a877-4461-8c7a-782b8943f0c3"
      },
      "execution_count": 8,
      "outputs": [
        {
          "output_type": "stream",
          "name": "stdout",
          "text": [
            "Dataset is as follows\n",
            "        name  score  attempts qualify\n",
            "a  Anastasia   12.5         1     yes\n",
            "b       Dima    9.0         3      no\n",
            "c  Katherine   16.5         2     yes\n",
            "d      James    NaN         3      no\n",
            "e      Emily    9.0         2      no\n",
            "Summary of the Dataset\n",
            "<class 'pandas.core.frame.DataFrame'>\n",
            "Index: 5 entries, a to e\n",
            "Data columns (total 4 columns):\n",
            " #   Column    Non-Null Count  Dtype  \n",
            "---  ------    --------------  -----  \n",
            " 0   name      5 non-null      object \n",
            " 1   score     4 non-null      float64\n",
            " 2   attempts  5 non-null      int64  \n",
            " 3   qualify   5 non-null      object \n",
            "dtypes: float64(1), int64(1), object(2)\n",
            "memory usage: 200.0+ bytes\n",
            "None\n",
            "Statistical values of numerical attributes\n",
            "           score  attempts\n",
            "count   4.000000   5.00000\n",
            "mean   11.750000   2.20000\n",
            "std     3.570714   0.83666\n",
            "min     9.000000   1.00000\n",
            "25%     9.000000   2.00000\n",
            "50%    10.750000   2.00000\n",
            "75%    13.500000   3.00000\n",
            "max    16.500000   3.00000\n",
            "mean value of Score is 11.75\n",
            "Standard deviation of score is 3.570714214271425\n"
          ]
        }
      ]
    }
  ]
}