{
  "nbformat": 4,
  "nbformat_minor": 0,
  "metadata": {
    "colab": {
      "provenance": [],
      "authorship_tag": "ABX9TyNrZPwEUHF5UvW3kL5dD5Gy",
      "include_colab_link": true
    },
    "kernelspec": {
      "name": "python3",
      "display_name": "Python 3"
    },
    "language_info": {
      "name": "python"
    }
  },
  "cells": [
    {
      "cell_type": "markdown",
      "metadata": {
        "id": "view-in-github",
        "colab_type": "text"
      },
      "source": [
        "<a href=\"https://colab.research.google.com/github/Md-Thahir/AI-Tools-Lab/blob/main/exp_1.ipynb\" target=\"_parent\"><img src=\"https://colab.research.google.com/assets/colab-badge.svg\" alt=\"Open In Colab\"/></a>"
      ]
    },
    {
      "cell_type": "code",
      "execution_count": 4,
      "metadata": {
        "colab": {
          "base_uri": "https://localhost:8080/"
        },
        "id": "Fa1vvWnG-uLL",
        "outputId": "475862bf-7cdc-4528-dd5b-0510531eba44"
      },
      "outputs": [
        {
          "output_type": "stream",
          "name": "stdout",
          "text": [
            "Matrix Addition\n",
            "[[ 7  9]\n",
            " [11 13]]\n",
            "\n",
            " Matrix Subtraction\n",
            "[[-5 -5]\n",
            " [-5 -5]]\n",
            "\n",
            " Matrix Multiplication\n",
            "[[22 25]\n",
            " [50 57]]\n",
            "\n",
            " Matrix Inverse\n",
            "[[-2.   1. ]\n",
            " [ 1.5 -0.5]]\n",
            "\n",
            "\n",
            "[[-4.5  3.5]\n",
            " [ 4.  -3. ]]\n",
            "\n",
            " Matrix Transpose\n",
            "[[1 3]\n",
            " [2 4]]\n",
            "\n",
            "\n",
            "[[6 8]\n",
            " [7 9]]\n"
          ]
        }
      ],
      "source": [
        "import numpy as np\n",
        "\n",
        "def mat_add(mat1,mat2):\n",
        "  return np.add(mat1,mat2)\n",
        "\n",
        "def mat_sub(mat1,mat2):\n",
        "  return np.subtract(mat1,mat2)\n",
        "\n",
        "def mat_mul(mat1,mat2):\n",
        "  return np.dot(mat1,mat2)\n",
        "\n",
        "def mat_inv(mat):\n",
        "  return np.linalg.inv(mat)\n",
        "\n",
        "def mat_transpose(mat):\n",
        "  return np.transpose(mat)\n",
        "\n",
        "def print_mat(mat):\n",
        "  print(mat)\n",
        "\n",
        "mat1=np.array([[1,2],[3,4]])\n",
        "mat2=np.array([[6,7],[8,9]])\n",
        "\n",
        "print(\"Matrix Addition\")\n",
        "print_mat(mat_add(mat1,mat2))\n",
        "\n",
        "print(\"\\n Matrix Subtraction\")\n",
        "print_mat(mat_sub(mat1,mat2))\n",
        "\n",
        "print(\"\\n Matrix Multiplication\")\n",
        "print_mat(mat_mul(mat1,mat2))\n",
        "\n",
        "print(\"\\n Matrix Inverse\")\n",
        "print_mat(mat_inv(mat1))\n",
        "print(\"\\n\")\n",
        "print_mat(mat_inv(mat2))\n",
        "\n",
        "print(\"\\n Matrix Transpose\")\n",
        "print_mat(mat_transpose(mat1))\n",
        "print(\"\\n\")\n",
        "print_mat(mat_transpose(mat2))"
      ]
    }
  ]
}