{
  "nbformat": 4,
  "nbformat_minor": 0,
  "metadata": {
    "colab": {
      "provenance": [],
      "authorship_tag": "ABX9TyNKjRVf9Tc1Jr03pBXg59MF",
      "include_colab_link": true
    },
    "kernelspec": {
      "name": "python3",
      "display_name": "Python 3"
    },
    "language_info": {
      "name": "python"
    }
  },
  "cells": [
    {
      "cell_type": "markdown",
      "metadata": {
        "id": "view-in-github",
        "colab_type": "text"
      },
      "source": [
        "<a href=\"https://colab.research.google.com/github/Md-Thahir/AI-Tools-Lab/blob/main/exp_1.ipynb\" target=\"_parent\"><img src=\"https://colab.research.google.com/assets/colab-badge.svg\" alt=\"Open In Colab\"/></a>"
      ]
    },
    {
      "cell_type": "code",
      "execution_count": 8,
      "metadata": {
        "colab": {
          "base_uri": "https://localhost:8080/"
        },
        "id": "Fa1vvWnG-uLL",
        "outputId": "f031da98-3d39-41bf-d124-309a3a10d00a"
      },
      "outputs": [
        {
          "output_type": "stream",
          "name": "stdout",
          "text": [
            "\n",
            "Matrix 1\n",
            "[[1 2]\n",
            " [3 4]]\n",
            "\n",
            "Matrix 2\n",
            "[[6 7]\n",
            " [8 9]]\n",
            "\n",
            "Matrix Addition\n",
            "[[ 7  9]\n",
            " [11 13]]\n",
            "\n",
            "Matrix Subtraction\n",
            "[[-5 -5]\n",
            " [-5 -5]]\n",
            "\n",
            "Matrix Multiplication\n",
            "[[22 25]\n",
            " [50 57]]\n",
            "\n",
            "Matrix Inverse\n",
            "[[-2.   1. ]\n",
            " [ 1.5 -0.5]]\n",
            "\n",
            "\n",
            "[[-4.5  3.5]\n",
            " [ 4.  -3. ]]\n",
            "\n",
            "Matrix Transpose\n",
            "[[1 3]\n",
            " [2 4]]\n",
            "\n",
            "\n",
            "[[6 8]\n",
            " [7 9]]\n"
          ]
        }
      ],
      "source": [
        "import numpy as np\n",
        "\n",
        "def mat_add(mat1,mat2):\n",
        "  return np.add(mat1,mat2)\n",
        "\n",
        "def mat_sub(mat1,mat2):\n",
        "  return np.subtract(mat1,mat2)\n",
        "\n",
        "def mat_mul(mat1,mat2):\n",
        "  return np.dot(mat1,mat2)\n",
        "\n",
        "def mat_inv(mat):\n",
        "  try:\n",
        "    return np.linalg.inv(mat)\n",
        "  except:\n",
        "    return \"Max is not Invertible\"\n",
        "\n",
        "\n",
        "def mat_transpose(mat):\n",
        "  return np.transpose(mat)\n",
        "\n",
        "def print_mat(mat):\n",
        "  print(mat)\n",
        "\n",
        "mat1=np.array([[1,2],[3,4]])\n",
        "mat2=np.array([[6,7],[8,9]])\n",
        "\n",
        "print(\"\\nMatrix 1\")\n",
        "print_mat(mat1)\n",
        "\n",
        "print(\"\\nMatrix 2\")\n",
        "print_mat(mat2)\n",
        "\n",
        "print(\"\\nMatrix Addition\")\n",
        "print_mat(mat_add(mat1,mat2))\n",
        "\n",
        "print(\"\\nMatrix Subtraction\")\n",
        "print_mat(mat_sub(mat1,mat2))\n",
        "\n",
        "print(\"\\nMatrix Multiplication\")\n",
        "print_mat(mat_mul(mat1,mat2))\n",
        "\n",
        "print(\"\\nMatrix Inverse\")\n",
        "print_mat(mat_inv(mat1))\n",
        "\n",
        "print(\"\\n\")\n",
        "print_mat(mat_inv(mat2))\n",
        "\n",
        "print(\"\\nMatrix Transpose\")\n",
        "print_mat(mat_transpose(mat1))\n",
        "print(\"\\n\")\n",
        "print_mat(mat_transpose(mat2))"
      ]
    }
  ]
}