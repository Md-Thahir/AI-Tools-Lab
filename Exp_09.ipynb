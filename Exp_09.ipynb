{
  "nbformat": 4,
  "nbformat_minor": 0,
  "metadata": {
    "colab": {
      "provenance": [],
      "mount_file_id": "1WXsRpcL7S4OiC9TkDji_0m3wmQIB69RM",
      "authorship_tag": "ABX9TyO5DeLthhU8yPqZPcGogKiM",
      "include_colab_link": true
    },
    "kernelspec": {
      "name": "python3",
      "display_name": "Python 3"
    },
    "language_info": {
      "name": "python"
    }
  },
  "cells": [
    {
      "cell_type": "markdown",
      "metadata": {
        "id": "view-in-github",
        "colab_type": "text"
      },
      "source": [
        "<a href=\"https://colab.research.google.com/github/Md-Thahir/AI-Tools-Lab/blob/main/Exp_09.ipynb\" target=\"_parent\"><img src=\"https://colab.research.google.com/assets/colab-badge.svg\" alt=\"Open In Colab\"/></a>"
      ]
    },
    {
      "cell_type": "code",
      "execution_count": null,
      "metadata": {
        "id": "BHTmwqngxWL0",
        "colab": {
          "base_uri": "https://localhost:8080/"
        },
        "outputId": "5e34cde6-8223-4f3b-967c-20c180ebb9e4"
      },
      "outputs": [
        {
          "output_type": "stream",
          "name": "stdout",
          "text": [
            "   longitude  latitude  housing_median_age  total_rooms  total_bedrooms  \\\n",
            "0    -122.23     37.88                41.0        880.0           129.0   \n",
            "1    -122.22     37.86                21.0       7099.0          1106.0   \n",
            "2    -122.24     37.85                52.0       1467.0           190.0   \n",
            "3    -122.25     37.85                52.0       1274.0           235.0   \n",
            "4    -122.25     37.85                52.0       1627.0           280.0   \n",
            "\n",
            "   population  households  median_income  median_house_value ocean_proximity  \n",
            "0       322.0       126.0         8.3252            452600.0        NEAR BAY  \n",
            "1      2401.0      1138.0         8.3014            358500.0        NEAR BAY  \n",
            "2       496.0       177.0         7.2574            352100.0        NEAR BAY  \n",
            "3       558.0       219.0         5.6431            341300.0        NEAR BAY  \n",
            "4       565.0       259.0         3.8462            342200.0        NEAR BAY  \n"
          ]
        }
      ],
      "source": [
        "'''Perform Data Analysis on the California House Price data to answer the following'''\n",
        "# importing all the necessary libraries\n",
        "import pandas as pd\n",
        "import numpy as np\n",
        "#we need to read the data\n",
        "data = pd.read_csv(\"/content/drive/MyDrive/AI Tools Lab/california_housing.csv\")\n",
        "#print top 5 rows\n",
        "print(data.head())"
      ]
    },
    {
      "cell_type": "code",
      "source": [
        "'''a. Data Type of each column and info regarding each column'''\n",
        "# data information for each column\n",
        "print(data.info())"
      ],
      "metadata": {
        "colab": {
          "base_uri": "https://localhost:8080/"
        },
        "id": "gvrYHudezs2w",
        "outputId": "b1417d05-c91b-4d4f-92f5-c9489c0152ae"
      },
      "execution_count": null,
      "outputs": [
        {
          "output_type": "stream",
          "name": "stdout",
          "text": [
            "<class 'pandas.core.frame.DataFrame'>\n",
            "RangeIndex: 20640 entries, 0 to 20639\n",
            "Data columns (total 10 columns):\n",
            " #   Column              Non-Null Count  Dtype  \n",
            "---  ------              --------------  -----  \n",
            " 0   longitude           20640 non-null  float64\n",
            " 1   latitude            20640 non-null  float64\n",
            " 2   housing_median_age  20640 non-null  float64\n",
            " 3   total_rooms         20640 non-null  float64\n",
            " 4   total_bedrooms      20433 non-null  float64\n",
            " 5   population          20640 non-null  float64\n",
            " 6   households          20640 non-null  float64\n",
            " 7   median_income       20640 non-null  float64\n",
            " 8   median_house_value  20640 non-null  float64\n",
            " 9   ocean_proximity     20640 non-null  object \n",
            "dtypes: float64(9), object(1)\n",
            "memory usage: 1.6+ MB\n",
            "None\n"
          ]
        }
      ]
    },
    {
      "cell_type": "code",
      "source": [
        "'''b. The average age of a house in the data set.'''\n",
        "# printing average age of house\n",
        "print(data['housing_median_age'].mean())"
      ],
      "metadata": {
        "colab": {
          "base_uri": "https://localhost:8080/"
        },
        "id": "tLgM4G-G0CCc",
        "outputId": "4dfcb87d-b735-4d28-b02d-fc026fc06850"
      },
      "execution_count": null,
      "outputs": [
        {
          "output_type": "stream",
          "name": "stdout",
          "text": [
            "28.639486434108527\n"
          ]
        }
      ]
    },
    {
      "cell_type": "code",
      "source": [
        "'''Determines top 10 localities with the high difference between income and house value. Also, top 10 localities that have the lowest difference'''\n",
        "#calculating the difference btw House value and income and adding new column 'diff_income_and_house_value' with difference values\n",
        "data['diff_income_and_house_value'] = data['median_house_value'] - data['median_income']\n",
        "# sorting the whole dataframe by the difference value in descending order\n",
        "data.sort_values(by='diff_income_and_house_value', ascending=False,inplace=True)\n",
        "#printing the top 10 localities with highest difference\n",
        "print(\"the top 10 localities with highest difference\")\n",
        "print(data['ocean_proximity'].head(10))\n",
        "#printing the top 10 localities with lowest difference\n",
        "print(\"the top 10 localities with lowest difference\")\n",
        "print(data['ocean_proximity'].tail(10))"
      ],
      "metadata": {
        "colab": {
          "base_uri": "https://localhost:8080/"
        },
        "id": "R4utI-mI0Std",
        "outputId": "6864d736-e92f-4a44-8b89-2e6d8c316f86"
      },
      "execution_count": null,
      "outputs": [
        {
          "output_type": "stream",
          "name": "stdout",
          "text": [
            "the top 10 localities with highest difference\n",
            "4861      <1H OCEAN\n",
            "6688         INLAND\n",
            "16642    NEAR OCEAN\n",
            "15661      NEAR BAY\n",
            "15652      NEAR BAY\n",
            "6639      <1H OCEAN\n",
            "459        NEAR BAY\n",
            "89         NEAR BAY\n",
            "10448     <1H OCEAN\n",
            "17819     <1H OCEAN\n",
            "Name: ocean_proximity, dtype: object\n",
            "the top 10 localities with lowest difference\n",
            "2779         INLAND\n",
            "16186        INLAND\n",
            "14326    NEAR OCEAN\n",
            "1825       NEAR BAY\n",
            "13889        INLAND\n",
            "5887      <1H OCEAN\n",
            "19802        INLAND\n",
            "2521         INLAND\n",
            "2799         INLAND\n",
            "9188         INLAND\n",
            "Name: ocean_proximity, dtype: object\n"
          ]
        }
      ]
    },
    {
      "cell_type": "code",
      "source": [
        "data.to_csv(\"/content/drive/MyDrive/AI Tools Lab/california_housing_2.csv\",index=False)\n",
        "'''What is the ratio of bedrooms to total rooms in the data'''\n",
        "# total no of rooms\n",
        "total_rooms = data['total_rooms'].sum()\n",
        "# total number of bedrooms\n",
        "total_bedrooms = data['total_bedrooms'].sum()\n",
        "#printing the ratio of bedrooms to total rooms\n",
        "print(total_rooms//total_bedrooms)"
      ],
      "metadata": {
        "colab": {
          "base_uri": "https://localhost:8080/"
        },
        "id": "wacNwWKB0sTB",
        "outputId": "a8ac1485-d2f5-47c8-dbc6-bbec96391ea2"
      },
      "execution_count": null,
      "outputs": [
        {
          "output_type": "stream",
          "name": "stdout",
          "text": [
            "4.0\n"
          ]
        }
      ]
    },
    {
      "cell_type": "code",
      "source": [
        "'''e. Determine the average price of a house for each type of ocean_proximity.'''\n",
        "# average house price for each ocean_proximity type\n",
        "data.groupby('ocean_proximity')['median_house_value'].median()"
      ],
      "metadata": {
        "colab": {
          "base_uri": "https://localhost:8080/"
        },
        "id": "AFmHigin040h",
        "outputId": "53da822b-1288-4a4c-e80e-3ae4953a0997"
      },
      "execution_count": null,
      "outputs": [
        {
          "output_type": "execute_result",
          "data": {
            "text/plain": [
              "ocean_proximity\n",
              "<1H OCEAN     214850.0\n",
              "INLAND        108500.0\n",
              "ISLAND        414700.0\n",
              "NEAR BAY      233800.0\n",
              "NEAR OCEAN    229450.0\n",
              "Name: median_house_value, dtype: float64"
            ]
          },
          "metadata": {},
          "execution_count": 7
        }
      ]
    }
  ]
}